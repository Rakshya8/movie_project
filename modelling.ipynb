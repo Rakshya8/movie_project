{
 "cells": [
  {
   "cell_type": "code",
   "execution_count": 8,
   "metadata": {},
   "outputs": [
    {
     "ename": "AttributeError",
     "evalue": "partially initialized module 'pandas' has no attribute 'core' (most likely due to a circular import)",
     "output_type": "error",
     "traceback": [
      "\u001b[1;31m---------------------------------------------------------------------------\u001b[0m",
      "\u001b[1;31mAttributeError\u001b[0m                            Traceback (most recent call last)",
      "\u001b[1;32md:\\AIT\\Sem 1\\ComputerProgrammingforDSandAI\\Group\\ml_movie_project\\movie_project\\modelling.ipynb Cell 1\u001b[0m line \u001b[0;36m1\n\u001b[1;32m----> <a href='vscode-notebook-cell:/d%3A/AIT/Sem%201/ComputerProgrammingforDSandAI/Group/ml_movie_project/movie_project/modelling.ipynb#W0sZmlsZQ%3D%3D?line=0'>1</a>\u001b[0m \u001b[39mimport\u001b[39;00m \u001b[39mpandas\u001b[39;00m \u001b[39mas\u001b[39;00m \u001b[39mpd\u001b[39;00m\n\u001b[0;32m      <a href='vscode-notebook-cell:/d%3A/AIT/Sem%201/ComputerProgrammingforDSandAI/Group/ml_movie_project/movie_project/modelling.ipynb#W0sZmlsZQ%3D%3D?line=1'>2</a>\u001b[0m \u001b[39mimport\u001b[39;00m \u001b[39mast\u001b[39;00m\n",
      "File \u001b[1;32md:\\AIT\\Sem 1\\ComputerProgrammingforDSandAI\\Anaconda\\Lib\\site-packages\\pandas\\__init__.py:138\u001b[0m\n\u001b[0;32m    120\u001b[0m \u001b[39mfrom\u001b[39;00m \u001b[39mpandas\u001b[39;00m\u001b[39m.\u001b[39;00m\u001b[39mcore\u001b[39;00m\u001b[39m.\u001b[39;00m\u001b[39mreshape\u001b[39;00m\u001b[39m.\u001b[39;00m\u001b[39mapi\u001b[39;00m \u001b[39mimport\u001b[39;00m (\n\u001b[0;32m    121\u001b[0m     concat,\n\u001b[0;32m    122\u001b[0m     lreshape,\n\u001b[1;32m   (...)\u001b[0m\n\u001b[0;32m    134\u001b[0m     qcut,\n\u001b[0;32m    135\u001b[0m )\n\u001b[0;32m    137\u001b[0m \u001b[39mfrom\u001b[39;00m \u001b[39mpandas\u001b[39;00m \u001b[39mimport\u001b[39;00m api, arrays, errors, io, plotting, tseries\n\u001b[1;32m--> 138\u001b[0m \u001b[39mfrom\u001b[39;00m \u001b[39mpandas\u001b[39;00m \u001b[39mimport\u001b[39;00m testing  \u001b[39m# noqa:PDF015\u001b[39;00m\n\u001b[0;32m    139\u001b[0m \u001b[39mfrom\u001b[39;00m \u001b[39mpandas\u001b[39;00m\u001b[39m.\u001b[39;00m\u001b[39mutil\u001b[39;00m\u001b[39m.\u001b[39;00m\u001b[39m_print_versions\u001b[39;00m \u001b[39mimport\u001b[39;00m show_versions\n\u001b[0;32m    141\u001b[0m \u001b[39mfrom\u001b[39;00m \u001b[39mpandas\u001b[39;00m\u001b[39m.\u001b[39;00m\u001b[39mio\u001b[39;00m\u001b[39m.\u001b[39;00m\u001b[39mapi\u001b[39;00m \u001b[39mimport\u001b[39;00m (\n\u001b[0;32m    142\u001b[0m     \u001b[39m# excel\u001b[39;00m\n\u001b[0;32m    143\u001b[0m     ExcelFile,\n\u001b[1;32m   (...)\u001b[0m\n\u001b[0;32m    171\u001b[0m     read_spss,\n\u001b[0;32m    172\u001b[0m )\n",
      "File \u001b[1;32md:\\AIT\\Sem 1\\ComputerProgrammingforDSandAI\\Anaconda\\Lib\\site-packages\\pandas\\testing.py:6\u001b[0m\n\u001b[0;32m      1\u001b[0m \u001b[39m\"\"\"\u001b[39;00m\n\u001b[0;32m      2\u001b[0m \u001b[39mPublic testing utility functions.\u001b[39;00m\n\u001b[0;32m      3\u001b[0m \u001b[39m\"\"\"\u001b[39;00m\n\u001b[1;32m----> 6\u001b[0m \u001b[39mfrom\u001b[39;00m \u001b[39mpandas\u001b[39;00m\u001b[39m.\u001b[39;00m\u001b[39m_testing\u001b[39;00m \u001b[39mimport\u001b[39;00m (\n\u001b[0;32m      7\u001b[0m     assert_extension_array_equal,\n\u001b[0;32m      8\u001b[0m     assert_frame_equal,\n\u001b[0;32m      9\u001b[0m     assert_index_equal,\n\u001b[0;32m     10\u001b[0m     assert_series_equal,\n\u001b[0;32m     11\u001b[0m )\n\u001b[0;32m     13\u001b[0m __all__ \u001b[39m=\u001b[39m [\n\u001b[0;32m     14\u001b[0m     \u001b[39m\"\u001b[39m\u001b[39massert_extension_array_equal\u001b[39m\u001b[39m\"\u001b[39m,\n\u001b[0;32m     15\u001b[0m     \u001b[39m\"\u001b[39m\u001b[39massert_frame_equal\u001b[39m\u001b[39m\"\u001b[39m,\n\u001b[0;32m     16\u001b[0m     \u001b[39m\"\u001b[39m\u001b[39massert_series_equal\u001b[39m\u001b[39m\"\u001b[39m,\n\u001b[0;32m     17\u001b[0m     \u001b[39m\"\u001b[39m\u001b[39massert_index_equal\u001b[39m\u001b[39m\"\u001b[39m,\n\u001b[0;32m     18\u001b[0m ]\n",
      "File \u001b[1;32md:\\AIT\\Sem 1\\ComputerProgrammingforDSandAI\\Anaconda\\Lib\\site-packages\\pandas\\_testing\\__init__.py:903\u001b[0m\n\u001b[0;32m    898\u001b[0m     \u001b[39mimport\u001b[39;00m \u001b[39mpytest\u001b[39;00m\n\u001b[0;32m    900\u001b[0m     \u001b[39mreturn\u001b[39;00m pytest\u001b[39m.\u001b[39mraises(expected_exception, match\u001b[39m=\u001b[39m\u001b[39mNone\u001b[39;00m)  \u001b[39m# noqa: PDF010\u001b[39;00m\n\u001b[1;32m--> 903\u001b[0m cython_table \u001b[39m=\u001b[39m pd\u001b[39m.\u001b[39mcore\u001b[39m.\u001b[39mcommon\u001b[39m.\u001b[39m_cython_table\u001b[39m.\u001b[39mitems()\n\u001b[0;32m    906\u001b[0m \u001b[39mdef\u001b[39;00m \u001b[39mget_cython_table_params\u001b[39m(ndframe, func_names_and_expected):\n\u001b[0;32m    907\u001b[0m \u001b[39m    \u001b[39m\u001b[39m\"\"\"\u001b[39;00m\n\u001b[0;32m    908\u001b[0m \u001b[39m    Combine frame, functions from com._cython_table\u001b[39;00m\n\u001b[0;32m    909\u001b[0m \u001b[39m    keys and expected result.\u001b[39;00m\n\u001b[1;32m   (...)\u001b[0m\n\u001b[0;32m    921\u001b[0m \u001b[39m        List of three items (DataFrame, function, expected result)\u001b[39;00m\n\u001b[0;32m    922\u001b[0m \u001b[39m    \"\"\"\u001b[39;00m\n",
      "\u001b[1;31mAttributeError\u001b[0m: partially initialized module 'pandas' has no attribute 'core' (most likely due to a circular import)"
     ]
    }
   ],
   "source": [
    "import pandas as pd\n",
    "import ast  "
   ]
  },
  {
   "cell_type": "code",
   "execution_count": null,
   "metadata": {},
   "outputs": [],
   "source": [
    "df_movie_meta= pd.read_csv('Data/IMDB/movies_metadata.csv')\n",
    "df_movie_rating= pd.read_csv('Data/IMDB/ratings.csv')\n",
    "df_movie_action= pd.read_csv('Data/TMDB/action.csv')\n",
    "df_movie_ad= pd.read_csv('Data/TMDB/adventure.csv')\n",
    "df_movie_animation= pd.read_csv('Data/TMDB/animation.csv')\n",
    "df_movie_biography= pd.read_csv('Data/TMDB/biography.csv')\n",
    "df_movie_crime= pd.read_csv('Data/TMDB/crime.csv')\n",
    "df_movie_family= pd.read_csv('Data/TMDB/family.csv')\n",
    "df_movie_fantasy= pd.read_csv('Data/TMDB/fantasy.csv')\n",
    "df_movie_film_noir= pd.read_csv('Data/TMDB/film-noir.csv')\n",
    "df_movie_history= pd.read_csv('Data/TMDB/history.csv')\n",
    "df_movie_horror= pd.read_csv('Data/TMDB/horror.csv')\n",
    "df_movie_mystery= pd.read_csv('Data/TMDB/mystery.csv')\n",
    "df_movie_romance= pd.read_csv('Data/TMDB/romance.csv')\n",
    "df_movie_scifi= pd.read_csv('Data/TMDB/scifi.csv')\n",
    "df_movie_sports= pd.read_csv('Data/TMDB/sports.csv')\n",
    "df_movie_thriller= pd.read_csv('Data/TMDB/thriller.csv')\n",
    "df_movie_war= pd.read_csv('Data/TMDB/war.csv')\n",
    "df_tmdb_links = pd.read_csv('Data/IMDB/links.csv')"
   ]
  },
  {
   "cell_type": "code",
   "execution_count": null,
   "metadata": {},
   "outputs": [],
   "source": [
    "# Set the option to display all columns\n",
    "pd.set_option('display.max_columns', None)\n",
    "\n",
    "# Display the first few rows of the DataFrame\n",
    "df_movie_meta.head()"
   ]
  },
  {
   "cell_type": "code",
   "execution_count": null,
   "metadata": {},
   "outputs": [],
   "source": [
    "\n",
    "# List of DataFrames\n",
    "dfs = [\n",
    "    df_movie_action, df_movie_ad, df_movie_animation, df_movie_biography,\n",
    "    df_movie_crime, df_movie_family, df_movie_fantasy, df_movie_film_noir,\n",
    "    df_movie_history, df_movie_horror, df_movie_mystery, df_movie_romance,\n",
    "    df_movie_scifi, df_movie_sports, df_movie_thriller, df_movie_war\n",
    "]\n",
    "\n",
    "# Merge DataFrames with full outer join on 'id' and 'movie_id'\n",
    "df_merged_movies = pd.concat(dfs, axis=0, join='outer', ignore_index=True, sort=False, keys=['id', 'movie_id'])\n",
    "\n",
    "\n"
   ]
  },
  {
   "cell_type": "code",
   "execution_count": null,
   "metadata": {},
   "outputs": [],
   "source": [
    "df_merged_movies.isna().sum()"
   ]
  },
  {
   "cell_type": "code",
   "execution_count": null,
   "metadata": {},
   "outputs": [],
   "source": [
    "df_merged_movies.head()"
   ]
  },
  {
   "cell_type": "code",
   "execution_count": null,
   "metadata": {},
   "outputs": [],
   "source": [
    "df_merged_movies['gross(in $)'].isna().sum()"
   ]
  },
  {
   "cell_type": "code",
   "execution_count": null,
   "metadata": {},
   "outputs": [],
   "source": [
    "# Assuming you have a DataFrame 'df'\n",
    "df_merged_movies.rename(columns={'gross(in $)': 'revenue'}, inplace=True)\n"
   ]
  },
  {
   "cell_type": "code",
   "execution_count": null,
   "metadata": {},
   "outputs": [],
   "source": [
    "df_merged_movies.shape"
   ]
  },
  {
   "cell_type": "code",
   "execution_count": null,
   "metadata": {},
   "outputs": [],
   "source": [
    "df_merged_movies['movie_id'] = pd.to_numeric(df_merged_movies['movie_id'].str.replace('tt', ''), errors='coerce')"
   ]
  },
  {
   "cell_type": "code",
   "execution_count": null,
   "metadata": {},
   "outputs": [],
   "source": [
    "df_merged_movies.info()"
   ]
  },
  {
   "cell_type": "code",
   "execution_count": null,
   "metadata": {},
   "outputs": [],
   "source": [
    "df_merged_movies.head()"
   ]
  },
  {
   "cell_type": "code",
   "execution_count": null,
   "metadata": {},
   "outputs": [],
   "source": [
    "df_merged_movies['revenue'].count()"
   ]
  },
  {
   "cell_type": "code",
   "execution_count": null,
   "metadata": {},
   "outputs": [],
   "source": [
    "df_tmdb_links.head()"
   ]
  },
  {
   "cell_type": "code",
   "execution_count": null,
   "metadata": {},
   "outputs": [],
   "source": [
    "df_tmdb_links.isna().sum()"
   ]
  },
  {
   "cell_type": "code",
   "execution_count": null,
   "metadata": {},
   "outputs": [],
   "source": [
    "tmdb_df = pd.merge(df_tmdb_links, df_merged_movies, left_on='tmdbId', right_on='movie_id', how='right')"
   ]
  },
  {
   "cell_type": "code",
   "execution_count": null,
   "metadata": {},
   "outputs": [],
   "source": [
    "tmdb_df.head()"
   ]
  },
  {
   "cell_type": "code",
   "execution_count": null,
   "metadata": {},
   "outputs": [],
   "source": [
    "tmdb_df.isna().sum()"
   ]
  },
  {
   "cell_type": "code",
   "execution_count": null,
   "metadata": {},
   "outputs": [],
   "source": [
    "df_movie_meta.head()\n"
   ]
  },
  {
   "cell_type": "code",
   "execution_count": null,
   "metadata": {},
   "outputs": [],
   "source": [
    "df_movie_meta['imdbId'] = pd.to_numeric(df_movie_meta['imdbId'].str.replace('tt', ''), errors='coerce')\n"
   ]
  },
  {
   "cell_type": "code",
   "execution_count": null,
   "metadata": {},
   "outputs": [],
   "source": [
    "df_movie_meta.rename(columns={'genres': 'genre', 'imdb_id':'imdbId'}, inplace=True)"
   ]
  },
  {
   "cell_type": "code",
   "execution_count": null,
   "metadata": {},
   "outputs": [],
   "source": [
    "df_movie_meta.head()"
   ]
  },
  {
   "cell_type": "code",
   "execution_count": null,
   "metadata": {},
   "outputs": [],
   "source": [
    "movie_df = pd.merge(df_movie_meta, tmdb_df, left_on='imdb_id', right_on='imdbId', how='outer')"
   ]
  },
  {
   "cell_type": "code",
   "execution_count": null,
   "metadata": {},
   "outputs": [],
   "source": [
    "# movie_df = df_movie_meta.combine_first(tmdb_df)"
   ]
  },
  {
   "cell_type": "code",
   "execution_count": null,
   "metadata": {},
   "outputs": [],
   "source": [
    "movie_df.tail()"
   ]
  },
  {
   "cell_type": "code",
   "execution_count": null,
   "metadata": {},
   "outputs": [],
   "source": [
    "movie_df.shape"
   ]
  },
  {
   "cell_type": "code",
   "execution_count": null,
   "metadata": {},
   "outputs": [],
   "source": [
    "df_movie_meta.isna().sum()"
   ]
  },
  {
   "cell_type": "code",
   "execution_count": null,
   "metadata": {},
   "outputs": [],
   "source": [
    "tmdb_df.isna().sum()"
   ]
  },
  {
   "cell_type": "code",
   "execution_count": null,
   "metadata": {},
   "outputs": [],
   "source": [
    "tmdb_df.shape"
   ]
  },
  {
   "cell_type": "code",
   "execution_count": null,
   "metadata": {},
   "outputs": [],
   "source": [
    "movie_df.isna().sum()"
   ]
  },
  {
   "cell_type": "code",
   "execution_count": null,
   "metadata": {},
   "outputs": [],
   "source": [
    "movie_df.head()"
   ]
  },
  {
   "cell_type": "code",
   "execution_count": null,
   "metadata": {},
   "outputs": [],
   "source": [
    "movie_df.video.value_counts()"
   ]
  },
  {
   "cell_type": "code",
   "execution_count": null,
   "metadata": {},
   "outputs": [],
   "source": [
    "movie_df.status.value_counts()"
   ]
  },
  {
   "cell_type": "code",
   "execution_count": null,
   "metadata": {},
   "outputs": [],
   "source": [
    "movie_df.tagline[1]"
   ]
  },
  {
   "cell_type": "code",
   "execution_count": null,
   "metadata": {},
   "outputs": [],
   "source": [
    "movie_df.homepage.value_counts()"
   ]
  },
  {
   "cell_type": "code",
   "execution_count": null,
   "metadata": {},
   "outputs": [],
   "source": [
    "movie_df.drop(columns=[\"video\",\"poster_path\",\"homepage\",\"overview\",\"tagline\"], inplace=True)"
   ]
  },
  {
   "cell_type": "code",
   "execution_count": null,
   "metadata": {},
   "outputs": [],
   "source": [
    "movie_df.head(5)"
   ]
  },
  {
   "cell_type": "code",
   "execution_count": null,
   "metadata": {},
   "outputs": [],
   "source": [
    "movie_df[\"belongs_to_collection\"][0]"
   ]
  },
  {
   "cell_type": "code",
   "execution_count": null,
   "metadata": {},
   "outputs": [],
   "source": [
    "# Assuming the 'belongs_to_collection' column contains strings that look like dictionaries\n",
    "movie_df['belongs_to_collection'] = movie_df['belongs_to_collection'].apply(lambda x: ast.literal_eval(x) if isinstance(x, str) else None)\n",
    "\n",
    "# Create new columns for 'collection_id' and 'collection_name'\n",
    "movie_df['collection_id'] = movie_df['belongs_to_collection'].apply(lambda x: x['id'] if isinstance(x, dict) else None)\n",
    "movie_df['collection_name'] = movie_df['belongs_to_collection'].apply(lambda x: x['name'] if isinstance(x, dict) else None)\n",
    "movie_df.drop(columns=['belongs_to_collection'], inplace=True)\n",
    "\n"
   ]
  },
  {
   "cell_type": "code",
   "execution_count": null,
   "metadata": {},
   "outputs": [],
   "source": [
    "movie_df.head()"
   ]
  },
  {
   "cell_type": "code",
   "execution_count": null,
   "metadata": {},
   "outputs": [],
   "source": [
    "movie_df.drop(columns=['belongs_to_collection'], inplace=True)"
   ]
  },
  {
   "cell_type": "code",
   "execution_count": null,
   "metadata": {},
   "outputs": [],
   "source": [
    "movie_df[\"spoken_languages\"][3]"
   ]
  },
  {
   "cell_type": "code",
   "execution_count": null,
   "metadata": {},
   "outputs": [],
   "source": [
    "def extract_and_create_language_columns(df):\n",
    "    # Define a custom function to extract language names\n",
    "    def extract_language_name(lang_data):\n",
    "        try:\n",
    "            lang_list = ast.literal_eval(lang_data)  # Convert the string to a list of dictionaries\n",
    "            return [lang['name'] for lang in lang_list]  # Extract the 'name' values\n",
    "        except (ValueError, SyntaxError):\n",
    "            return None\n",
    "\n",
    "    # Apply the custom function to create a new column 'spoken_languages_names'\n",
    "    df['spoken_languages_names'] = df['spoken_languages'].apply(extract_language_name)\n",
    "\n",
    "    # Create 'spoken_language_1' and 'spoken_language_2' columns\n",
    "    df['spoken_language_1'] = df['spoken_languages_names'].apply(lambda x: x[0] if isinstance(x, list) and len(x) > 0 else None)\n",
    "    df['spoken_language_2'] = df['spoken_languages_names'].apply(lambda x: x[1] if isinstance(x, list) and len(x) > 1 else None)\n",
    "\n",
    "    # Drop the 'spoken_languages_names' column if desired\n",
    "    df.drop(columns=['spoken_languages_names'], inplace=True)\n",
    "\n",
    "    return df\n",
    "\n",
    "# Example usage:\n",
    "movie_df = extract_and_create_language_columns(movie_df)\n"
   ]
  },
  {
   "cell_type": "code",
   "execution_count": null,
   "metadata": {},
   "outputs": [],
   "source": [
    "movie_df.drop(columns=['spoken_languages'], inplace=True)\n"
   ]
  },
  {
   "cell_type": "code",
   "execution_count": null,
   "metadata": {},
   "outputs": [],
   "source": [
    "movie_df.head()"
   ]
  },
  {
   "cell_type": "code",
   "execution_count": null,
   "metadata": {},
   "outputs": [],
   "source": [
    "movie_df['production_companies'][1]"
   ]
  },
  {
   "cell_type": "code",
   "execution_count": null,
   "metadata": {},
   "outputs": [],
   "source": [
    "def extract_company_data(company_data):\n",
    "    try:\n",
    "        company_list = ast.literal_eval(company_data)  # Convert the string to a list of dictionaries\n",
    "        return company_list\n",
    "    except (ValueError, SyntaxError):\n",
    "        return None\n",
    "\n",
    "# Apply the custom function to create a new column 'production_companies_data'\n",
    "movie_df['production_companies_data'] = movie_df['production_companies'].apply(extract_company_data)\n",
    "\n",
    "# Determine the maximum number of production companies in a row\n",
    "max_companies = movie_df['production_companies_data'].apply(lambda x: len(x) if isinstance(x, list) else 0).max()\n",
    "\n",
    "# Create separate columns for production company names and IDs\n",
    "for i in range(max_companies):\n",
    "    movie_df[f'production_company_{i+1}_name'] = movie_df['production_companies_data'].apply(\n",
    "        lambda x: x[i]['name'] if isinstance(x, list) and len(x) > i else None)\n",
    "    movie_df[f'production_company_{i+1}_id'] = movie_df['production_companies_data'].apply(\n",
    "        lambda x: x[i]['id'] if isinstance(x, list) and len(x) > i else None)\n",
    "\n",
    "# Drop the 'production_companies_data' column if desired\n",
    "movie_df.drop(columns=['production_companies_data'], inplace=True)\n",
    "movie_df.drop(columns=[\"production_companies\"], inplace=True)\n"
   ]
  },
  {
   "cell_type": "code",
   "execution_count": null,
   "metadata": {},
   "outputs": [],
   "source": [
    "# Define a custom function to extract country data\n",
    "def extract_country_data(country_data):\n",
    "    try:\n",
    "        country_list = ast.literal_eval(country_data)  # Convert the string to a list of dictionaries\n",
    "        return country_list\n",
    "    except (ValueError, SyntaxError):\n",
    "        return None\n",
    "\n",
    "# Apply the custom function to create a new column 'production_countries_data'\n",
    "movie_df['production_countries_data'] = movie_df['production_countries'].apply(extract_country_data)\n",
    "\n",
    "# Determine the maximum number of production countries in a row\n",
    "max_countries = movie_df['production_countries_data'].apply(lambda x: len(x) if isinstance(x, list) else 0).max()\n",
    "\n",
    "# Create separate columns for production country names\n",
    "for i in range(max_countries):\n",
    "    movie_df[f'production_country_{i+1}_name'] = movie_df['production_countries_data'].apply(\n",
    "        lambda x: x[i]['name'] if isinstance(x, list) and len(x) > i else None)\n",
    "\n",
    "# Drop the 'production_countries_data' column if desired\n",
    "movie_df.drop(columns=['production_countries_data'], inplace=True)\n",
    "movie_df.drop(columns=[\"production_countries\"], inplace=True)"
   ]
  },
  {
   "cell_type": "code",
   "execution_count": null,
   "metadata": {},
   "outputs": [],
   "source": [
    "movie_df.genres[0]"
   ]
  },
  {
   "cell_type": "code",
   "execution_count": null,
   "metadata": {},
   "outputs": [],
   "source": [
    "def extract_genre_data(genre_data):\n",
    "    try:\n",
    "        genre_list = ast.literal_eval(genre_data)  # Convert the string to a list of dictionaries\n",
    "        return [genre['name'] for genre in genre_list]  # Extract the 'name' values\n",
    "    except (ValueError, SyntaxError):\n",
    "        return None\n",
    "\n",
    "# Apply the custom function to create a new column 'genre_data'\n",
    "movie_df['genre_data'] = movie_df['genres'].apply(extract_genre_data)\n",
    "\n",
    "# Get a list of all unique genres\n",
    "unique_genres = set(genre for genres in movie_df['genre_data'] if isinstance(genres, list) for genre in genres)\n",
    "\n",
    "# Create a new column for each genre and set values as 1 or 0\n",
    "for genre in unique_genres:\n",
    "    movie_df[genre] = movie_df['genre_data'].apply(lambda x: 1 if isinstance(x, list) and genre in x else 0)\n",
    "\n",
    "# Drop the 'genre_data' column if desired\n",
    "movie_df.drop(columns=['genre_data'], axis=1, inplace=True)\n",
    "movie_df.drop(columns=[\"genres\"], inplace=True)"
   ]
  },
  {
   "cell_type": "code",
   "execution_count": null,
   "metadata": {},
   "outputs": [],
   "source": [
    "movie_df.head()"
   ]
  }
 ],
 "metadata": {
  "kernelspec": {
   "display_name": "Python 3",
   "language": "python",
   "name": "python3"
  },
  "language_info": {
   "codemirror_mode": {
    "name": "ipython",
    "version": 3
   },
   "file_extension": ".py",
   "mimetype": "text/x-python",
   "name": "python",
   "nbconvert_exporter": "python",
   "pygments_lexer": "ipython3",
   "version": "3.11.4"
  }
 },
 "nbformat": 4,
 "nbformat_minor": 2
}
