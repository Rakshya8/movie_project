{
 "cells": [
  {
   "cell_type": "code",
   "execution_count": 1,
   "metadata": {},
   "outputs": [],
   "source": [
    "import pandas as pd\n",
    "import numpy as np\n",
    "import seaborn as sns\n",
    "import matplotlib.pyplot as plt\n",
    "import math"
   ]
  },
  {
   "cell_type": "markdown",
   "metadata": {},
   "source": [
    "## Import Dataset"
   ]
  },
  {
   "cell_type": "code",
   "execution_count": 2,
   "metadata": {},
   "outputs": [
    {
     "name": "stderr",
     "output_type": "stream",
     "text": [
      "/var/folders/dq/43_5rtyn5lz1p4vkq89ykdw40000gn/T/ipykernel_7178/284090481.py:2: DtypeWarning: Columns (19,20,21,22,24,26,28,29,30,75) have mixed types. Specify dtype option on import or set low_memory=False.\n",
      "  df = pd.read_csv(\"Data/eda.csv\", parse_dates=parse_dates)\n"
     ]
    },
    {
     "data": {
      "text/html": [
       "<div>\n",
       "<style scoped>\n",
       "    .dataframe tbody tr th:only-of-type {\n",
       "        vertical-align: middle;\n",
       "    }\n",
       "\n",
       "    .dataframe tbody tr th {\n",
       "        vertical-align: top;\n",
       "    }\n",
       "\n",
       "    .dataframe thead th {\n",
       "        text-align: right;\n",
       "    }\n",
       "</style>\n",
       "<table border=\"1\" class=\"dataframe\">\n",
       "  <thead>\n",
       "    <tr style=\"text-align: right;\">\n",
       "      <th></th>\n",
       "      <th>Unnamed: 0.1</th>\n",
       "      <th>Unnamed: 0</th>\n",
       "      <th>adult</th>\n",
       "      <th>budget</th>\n",
       "      <th>original_language</th>\n",
       "      <th>popularity</th>\n",
       "      <th>release_date</th>\n",
       "      <th>status</th>\n",
       "      <th>vote_average</th>\n",
       "      <th>vote_count</th>\n",
       "      <th>...</th>\n",
       "      <th>genre_Western</th>\n",
       "      <th>revenue</th>\n",
       "      <th>runtime</th>\n",
       "      <th>release_year</th>\n",
       "      <th>movie_title</th>\n",
       "      <th>budget_class</th>\n",
       "      <th>profit</th>\n",
       "      <th>profit_percent</th>\n",
       "      <th>movie_class</th>\n",
       "      <th>release_month</th>\n",
       "    </tr>\n",
       "  </thead>\n",
       "  <tbody>\n",
       "    <tr>\n",
       "      <th>0</th>\n",
       "      <td>0</td>\n",
       "      <td>0</td>\n",
       "      <td>False</td>\n",
       "      <td>30000000.0</td>\n",
       "      <td>en</td>\n",
       "      <td>21.946943</td>\n",
       "      <td>1995-10-30</td>\n",
       "      <td>Released</td>\n",
       "      <td>7.7</td>\n",
       "      <td>5415.0</td>\n",
       "      <td>...</td>\n",
       "      <td>0</td>\n",
       "      <td>373554033.0</td>\n",
       "      <td>81.0</td>\n",
       "      <td>1995.0</td>\n",
       "      <td>Toy Story</td>\n",
       "      <td>mid</td>\n",
       "      <td>343554033.0</td>\n",
       "      <td>1.145180e+03</td>\n",
       "      <td>all_time_blockbuster</td>\n",
       "      <td>10.0</td>\n",
       "    </tr>\n",
       "    <tr>\n",
       "      <th>1</th>\n",
       "      <td>1</td>\n",
       "      <td>1</td>\n",
       "      <td>False</td>\n",
       "      <td>65000000.0</td>\n",
       "      <td>en</td>\n",
       "      <td>17.015539</td>\n",
       "      <td>1995-12-15</td>\n",
       "      <td>Released</td>\n",
       "      <td>6.9</td>\n",
       "      <td>2413.0</td>\n",
       "      <td>...</td>\n",
       "      <td>0</td>\n",
       "      <td>262797249.0</td>\n",
       "      <td>104.0</td>\n",
       "      <td>1995.0</td>\n",
       "      <td>Jumanji</td>\n",
       "      <td>high</td>\n",
       "      <td>197797249.0</td>\n",
       "      <td>3.043035e+02</td>\n",
       "      <td>all_time_blockbuster</td>\n",
       "      <td>12.0</td>\n",
       "    </tr>\n",
       "    <tr>\n",
       "      <th>2</th>\n",
       "      <td>2</td>\n",
       "      <td>2</td>\n",
       "      <td>False</td>\n",
       "      <td>0.0</td>\n",
       "      <td>en</td>\n",
       "      <td>11.712900</td>\n",
       "      <td>1995-12-22</td>\n",
       "      <td>Released</td>\n",
       "      <td>6.5</td>\n",
       "      <td>92.0</td>\n",
       "      <td>...</td>\n",
       "      <td>0</td>\n",
       "      <td>0.0</td>\n",
       "      <td>101.0</td>\n",
       "      <td>1995.0</td>\n",
       "      <td>Grumpier Old Men</td>\n",
       "      <td>low</td>\n",
       "      <td>0.0</td>\n",
       "      <td>0.000000e+00</td>\n",
       "      <td>below_avg</td>\n",
       "      <td>12.0</td>\n",
       "    </tr>\n",
       "    <tr>\n",
       "      <th>3</th>\n",
       "      <td>3</td>\n",
       "      <td>3</td>\n",
       "      <td>False</td>\n",
       "      <td>16000000.0</td>\n",
       "      <td>en</td>\n",
       "      <td>3.859495</td>\n",
       "      <td>1995-12-22</td>\n",
       "      <td>Released</td>\n",
       "      <td>6.1</td>\n",
       "      <td>34.0</td>\n",
       "      <td>...</td>\n",
       "      <td>0</td>\n",
       "      <td>81452156.0</td>\n",
       "      <td>127.0</td>\n",
       "      <td>1995.0</td>\n",
       "      <td>Waiting to Exhale</td>\n",
       "      <td>mid</td>\n",
       "      <td>65452156.0</td>\n",
       "      <td>4.090760e+02</td>\n",
       "      <td>all_time_blockbuster</td>\n",
       "      <td>12.0</td>\n",
       "    </tr>\n",
       "    <tr>\n",
       "      <th>4</th>\n",
       "      <td>4</td>\n",
       "      <td>4</td>\n",
       "      <td>False</td>\n",
       "      <td>0.0</td>\n",
       "      <td>en</td>\n",
       "      <td>8.387519</td>\n",
       "      <td>1995-02-10</td>\n",
       "      <td>Released</td>\n",
       "      <td>5.7</td>\n",
       "      <td>173.0</td>\n",
       "      <td>...</td>\n",
       "      <td>0</td>\n",
       "      <td>76578911.0</td>\n",
       "      <td>106.0</td>\n",
       "      <td>1995.0</td>\n",
       "      <td>Father of the Bride Part II</td>\n",
       "      <td>low</td>\n",
       "      <td>76578911.0</td>\n",
       "      <td>7.657891e+14</td>\n",
       "      <td>all_time_blockbuster</td>\n",
       "      <td>2.0</td>\n",
       "    </tr>\n",
       "  </tbody>\n",
       "</table>\n",
       "<p>5 rows × 81 columns</p>\n",
       "</div>"
      ],
      "text/plain": [
       "   Unnamed: 0.1  Unnamed: 0  adult      budget original_language  popularity  \\\n",
       "0             0           0  False  30000000.0                en   21.946943   \n",
       "1             1           1  False  65000000.0                en   17.015539   \n",
       "2             2           2  False         0.0                en   11.712900   \n",
       "3             3           3  False  16000000.0                en    3.859495   \n",
       "4             4           4  False         0.0                en    8.387519   \n",
       "\n",
       "  release_date    status  vote_average  vote_count  ...  genre_Western  \\\n",
       "0   1995-10-30  Released           7.7      5415.0  ...              0   \n",
       "1   1995-12-15  Released           6.9      2413.0  ...              0   \n",
       "2   1995-12-22  Released           6.5        92.0  ...              0   \n",
       "3   1995-12-22  Released           6.1        34.0  ...              0   \n",
       "4   1995-02-10  Released           5.7       173.0  ...              0   \n",
       "\n",
       "       revenue  runtime release_year                  movie_title  \\\n",
       "0  373554033.0     81.0       1995.0                    Toy Story   \n",
       "1  262797249.0    104.0       1995.0                      Jumanji   \n",
       "2          0.0    101.0       1995.0             Grumpier Old Men   \n",
       "3   81452156.0    127.0       1995.0            Waiting to Exhale   \n",
       "4   76578911.0    106.0       1995.0  Father of the Bride Part II   \n",
       "\n",
       "  budget_class       profit  profit_percent           movie_class  \\\n",
       "0          mid  343554033.0    1.145180e+03  all_time_blockbuster   \n",
       "1         high  197797249.0    3.043035e+02  all_time_blockbuster   \n",
       "2          low          0.0    0.000000e+00             below_avg   \n",
       "3          mid   65452156.0    4.090760e+02  all_time_blockbuster   \n",
       "4          low   76578911.0    7.657891e+14  all_time_blockbuster   \n",
       "\n",
       "  release_month  \n",
       "0          10.0  \n",
       "1          12.0  \n",
       "2          12.0  \n",
       "3          12.0  \n",
       "4           2.0  \n",
       "\n",
       "[5 rows x 81 columns]"
      ]
     },
     "execution_count": 2,
     "metadata": {},
     "output_type": "execute_result"
    }
   ],
   "source": [
    "parse_dates = ['release_date']\n",
    "df = pd.read_csv(\"Data/eda.csv\", parse_dates=parse_dates)\n",
    "df.head()"
   ]
  },
  {
   "cell_type": "markdown",
   "metadata": {},
   "source": [
    "## Compute Star's Power"
   ]
  },
  {
   "cell_type": "code",
   "execution_count": 3,
   "metadata": {},
   "outputs": [
    {
     "data": {
      "text/html": [
       "<div>\n",
       "<style scoped>\n",
       "    .dataframe tbody tr th:only-of-type {\n",
       "        vertical-align: middle;\n",
       "    }\n",
       "\n",
       "    .dataframe tbody tr th {\n",
       "        vertical-align: top;\n",
       "    }\n",
       "\n",
       "    .dataframe thead th {\n",
       "        text-align: right;\n",
       "    }\n",
       "</style>\n",
       "<table border=\"1\" class=\"dataframe\">\n",
       "  <thead>\n",
       "    <tr style=\"text-align: right;\">\n",
       "      <th></th>\n",
       "      <th>star</th>\n",
       "    </tr>\n",
       "  </thead>\n",
       "  <tbody>\n",
       "    <tr>\n",
       "      <th>0</th>\n",
       "      <td>NaN</td>\n",
       "    </tr>\n",
       "    <tr>\n",
       "      <th>1</th>\n",
       "      <td>NaN</td>\n",
       "    </tr>\n",
       "    <tr>\n",
       "      <th>2</th>\n",
       "      <td>NaN</td>\n",
       "    </tr>\n",
       "    <tr>\n",
       "      <th>3</th>\n",
       "      <td>NaN</td>\n",
       "    </tr>\n",
       "    <tr>\n",
       "      <th>4</th>\n",
       "      <td>NaN</td>\n",
       "    </tr>\n",
       "    <tr>\n",
       "      <th>...</th>\n",
       "      <td>...</td>\n",
       "    </tr>\n",
       "    <tr>\n",
       "      <th>979116</th>\n",
       "      <td>NaN</td>\n",
       "    </tr>\n",
       "    <tr>\n",
       "      <th>979117</th>\n",
       "      <td>NaN</td>\n",
       "    </tr>\n",
       "    <tr>\n",
       "      <th>979118</th>\n",
       "      <td>NaN</td>\n",
       "    </tr>\n",
       "    <tr>\n",
       "      <th>979119</th>\n",
       "      <td>NaN</td>\n",
       "    </tr>\n",
       "    <tr>\n",
       "      <th>979120</th>\n",
       "      <td>NaN</td>\n",
       "    </tr>\n",
       "  </tbody>\n",
       "</table>\n",
       "<p>979121 rows × 1 columns</p>\n",
       "</div>"
      ],
      "text/plain": [
       "       star\n",
       "0       NaN\n",
       "1       NaN\n",
       "2       NaN\n",
       "3       NaN\n",
       "4       NaN\n",
       "...     ...\n",
       "979116  NaN\n",
       "979117  NaN\n",
       "979118  NaN\n",
       "979119  NaN\n",
       "979120  NaN\n",
       "\n",
       "[979121 rows x 1 columns]"
      ]
     },
     "execution_count": 3,
     "metadata": {},
     "output_type": "execute_result"
    }
   ],
   "source": [
    "df[['star']]"
   ]
  },
  {
   "cell_type": "code",
   "execution_count": 4,
   "metadata": {},
   "outputs": [
    {
     "data": {
      "text/plain": [
       "788335"
      ]
     },
     "execution_count": 4,
     "metadata": {},
     "output_type": "execute_result"
    }
   ],
   "source": [
    "df['star'].notna().sum()"
   ]
  },
  {
   "cell_type": "code",
   "execution_count": 5,
   "metadata": {},
   "outputs": [],
   "source": [
    "df['star'] = df['star'].str.split(', \\n')"
   ]
  },
  {
   "cell_type": "code",
   "execution_count": 6,
   "metadata": {},
   "outputs": [],
   "source": [
    "not_null_star = df['star'].notna()\n",
    "star_lists = df[not_null_star]['star'].values"
   ]
  },
  {
   "cell_type": "code",
   "execution_count": 7,
   "metadata": {},
   "outputs": [],
   "source": [
    "star_powers = dict()\n",
    "\n",
    "for star_list in star_lists:\n",
    "    for star in star_list:\n",
    "        star_powers[star] = 0"
   ]
  },
  {
   "cell_type": "code",
   "execution_count": 8,
   "metadata": {},
   "outputs": [],
   "source": [
    "stars_with_revenue = df[['star', 'revenue']].values\n",
    "for stars, revenue in stars_with_revenue:\n",
    "    if math.isnan(revenue):\n",
    "        continue\n",
    "    if type(stars) == list:\n",
    "        for star in stars:\n",
    "            star_powers[star] += revenue"
   ]
  },
  {
   "cell_type": "code",
   "execution_count": 9,
   "metadata": {},
   "outputs": [],
   "source": [
    "def myfunc(item):\n",
    "    stars = item['star']\n",
    "    star_power = 0\n",
    "    if type(stars) == list :\n",
    "        for star in stars:\n",
    "            star_power += star_powers[star]\n",
    "    \n",
    "    return star_power\n",
    "\n",
    "df['star_power'] = df[['star']].apply(myfunc, axis=1)"
   ]
  },
  {
   "cell_type": "code",
   "execution_count": 10,
   "metadata": {},
   "outputs": [
    {
     "data": {
      "text/html": [
       "<div>\n",
       "<style scoped>\n",
       "    .dataframe tbody tr th:only-of-type {\n",
       "        vertical-align: middle;\n",
       "    }\n",
       "\n",
       "    .dataframe tbody tr th {\n",
       "        vertical-align: top;\n",
       "    }\n",
       "\n",
       "    .dataframe thead th {\n",
       "        text-align: right;\n",
       "    }\n",
       "</style>\n",
       "<table border=\"1\" class=\"dataframe\">\n",
       "  <thead>\n",
       "    <tr style=\"text-align: right;\">\n",
       "      <th></th>\n",
       "      <th>Unnamed: 0.1</th>\n",
       "      <th>Unnamed: 0</th>\n",
       "      <th>adult</th>\n",
       "      <th>budget</th>\n",
       "      <th>original_language</th>\n",
       "      <th>popularity</th>\n",
       "      <th>release_date</th>\n",
       "      <th>status</th>\n",
       "      <th>vote_average</th>\n",
       "      <th>vote_count</th>\n",
       "      <th>...</th>\n",
       "      <th>revenue</th>\n",
       "      <th>runtime</th>\n",
       "      <th>release_year</th>\n",
       "      <th>movie_title</th>\n",
       "      <th>budget_class</th>\n",
       "      <th>profit</th>\n",
       "      <th>profit_percent</th>\n",
       "      <th>movie_class</th>\n",
       "      <th>release_month</th>\n",
       "      <th>star_power</th>\n",
       "    </tr>\n",
       "  </thead>\n",
       "  <tbody>\n",
       "    <tr>\n",
       "      <th>979116</th>\n",
       "      <td>1306151</td>\n",
       "      <td>1306151</td>\n",
       "      <td>False</td>\n",
       "      <td>0.0</td>\n",
       "      <td>en</td>\n",
       "      <td>5.683753</td>\n",
       "      <td>1991-05-13</td>\n",
       "      <td>Released</td>\n",
       "      <td>5.7</td>\n",
       "      <td>26.0</td>\n",
       "      <td>...</td>\n",
       "      <td>0.0</td>\n",
       "      <td>104.0</td>\n",
       "      <td>1991.0</td>\n",
       "      <td>Robin Hood</td>\n",
       "      <td>low</td>\n",
       "      <td>0.0</td>\n",
       "      <td>0.0</td>\n",
       "      <td>below_avg</td>\n",
       "      <td>5.0</td>\n",
       "      <td>0.0</td>\n",
       "    </tr>\n",
       "    <tr>\n",
       "      <th>979117</th>\n",
       "      <td>1306153</td>\n",
       "      <td>1306153</td>\n",
       "      <td>False</td>\n",
       "      <td>0.0</td>\n",
       "      <td>tl</td>\n",
       "      <td>0.178241</td>\n",
       "      <td>2011-11-17</td>\n",
       "      <td>Released</td>\n",
       "      <td>9.0</td>\n",
       "      <td>3.0</td>\n",
       "      <td>...</td>\n",
       "      <td>0.0</td>\n",
       "      <td>360.0</td>\n",
       "      <td>2011.0</td>\n",
       "      <td>Century of Birthing</td>\n",
       "      <td>low</td>\n",
       "      <td>0.0</td>\n",
       "      <td>0.0</td>\n",
       "      <td>below_avg</td>\n",
       "      <td>11.0</td>\n",
       "      <td>0.0</td>\n",
       "    </tr>\n",
       "    <tr>\n",
       "      <th>979118</th>\n",
       "      <td>1306154</td>\n",
       "      <td>1306154</td>\n",
       "      <td>False</td>\n",
       "      <td>0.0</td>\n",
       "      <td>en</td>\n",
       "      <td>0.903007</td>\n",
       "      <td>2003-08-01</td>\n",
       "      <td>Released</td>\n",
       "      <td>3.8</td>\n",
       "      <td>6.0</td>\n",
       "      <td>...</td>\n",
       "      <td>0.0</td>\n",
       "      <td>90.0</td>\n",
       "      <td>2003.0</td>\n",
       "      <td>Betrayal</td>\n",
       "      <td>low</td>\n",
       "      <td>0.0</td>\n",
       "      <td>0.0</td>\n",
       "      <td>below_avg</td>\n",
       "      <td>8.0</td>\n",
       "      <td>0.0</td>\n",
       "    </tr>\n",
       "    <tr>\n",
       "      <th>979119</th>\n",
       "      <td>1306155</td>\n",
       "      <td>1306155</td>\n",
       "      <td>False</td>\n",
       "      <td>0.0</td>\n",
       "      <td>en</td>\n",
       "      <td>0.003503</td>\n",
       "      <td>1917-10-21</td>\n",
       "      <td>Released</td>\n",
       "      <td>0.0</td>\n",
       "      <td>0.0</td>\n",
       "      <td>...</td>\n",
       "      <td>0.0</td>\n",
       "      <td>87.0</td>\n",
       "      <td>1917.0</td>\n",
       "      <td>Satan Triumphant</td>\n",
       "      <td>low</td>\n",
       "      <td>0.0</td>\n",
       "      <td>0.0</td>\n",
       "      <td>below_avg</td>\n",
       "      <td>10.0</td>\n",
       "      <td>0.0</td>\n",
       "    </tr>\n",
       "    <tr>\n",
       "      <th>979120</th>\n",
       "      <td>1306156</td>\n",
       "      <td>1306156</td>\n",
       "      <td>False</td>\n",
       "      <td>0.0</td>\n",
       "      <td>en</td>\n",
       "      <td>0.163015</td>\n",
       "      <td>2017-06-09</td>\n",
       "      <td>Released</td>\n",
       "      <td>0.0</td>\n",
       "      <td>0.0</td>\n",
       "      <td>...</td>\n",
       "      <td>0.0</td>\n",
       "      <td>75.0</td>\n",
       "      <td>2017.0</td>\n",
       "      <td>Queerama</td>\n",
       "      <td>low</td>\n",
       "      <td>0.0</td>\n",
       "      <td>0.0</td>\n",
       "      <td>below_avg</td>\n",
       "      <td>6.0</td>\n",
       "      <td>0.0</td>\n",
       "    </tr>\n",
       "  </tbody>\n",
       "</table>\n",
       "<p>5 rows × 82 columns</p>\n",
       "</div>"
      ],
      "text/plain": [
       "        Unnamed: 0.1  Unnamed: 0  adult  budget original_language  popularity  \\\n",
       "979116       1306151     1306151  False     0.0                en    5.683753   \n",
       "979117       1306153     1306153  False     0.0                tl    0.178241   \n",
       "979118       1306154     1306154  False     0.0                en    0.903007   \n",
       "979119       1306155     1306155  False     0.0                en    0.003503   \n",
       "979120       1306156     1306156  False     0.0                en    0.163015   \n",
       "\n",
       "       release_date    status  vote_average  vote_count  ...  revenue runtime  \\\n",
       "979116   1991-05-13  Released           5.7        26.0  ...      0.0   104.0   \n",
       "979117   2011-11-17  Released           9.0         3.0  ...      0.0   360.0   \n",
       "979118   2003-08-01  Released           3.8         6.0  ...      0.0    90.0   \n",
       "979119   1917-10-21  Released           0.0         0.0  ...      0.0    87.0   \n",
       "979120   2017-06-09  Released           0.0         0.0  ...      0.0    75.0   \n",
       "\n",
       "        release_year          movie_title budget_class profit profit_percent  \\\n",
       "979116        1991.0           Robin Hood          low    0.0            0.0   \n",
       "979117        2011.0  Century of Birthing          low    0.0            0.0   \n",
       "979118        2003.0             Betrayal          low    0.0            0.0   \n",
       "979119        1917.0     Satan Triumphant          low    0.0            0.0   \n",
       "979120        2017.0             Queerama          low    0.0            0.0   \n",
       "\n",
       "        movie_class  release_month star_power  \n",
       "979116    below_avg            5.0        0.0  \n",
       "979117    below_avg           11.0        0.0  \n",
       "979118    below_avg            8.0        0.0  \n",
       "979119    below_avg           10.0        0.0  \n",
       "979120    below_avg            6.0        0.0  \n",
       "\n",
       "[5 rows x 82 columns]"
      ]
     },
     "execution_count": 10,
     "metadata": {},
     "output_type": "execute_result"
    }
   ],
   "source": [
    "df.tail()"
   ]
  },
  {
   "cell_type": "markdown",
   "metadata": {},
   "source": [
    "## Compute Director Power"
   ]
  },
  {
   "cell_type": "code",
   "execution_count": 11,
   "metadata": {},
   "outputs": [
    {
     "data": {
      "text/plain": [
       "864159"
      ]
     },
     "execution_count": 11,
     "metadata": {},
     "output_type": "execute_result"
    }
   ],
   "source": [
    "# A lot of director, so we should make use of it.\n",
    "df['director'].notna().sum()"
   ]
  },
  {
   "cell_type": "code",
   "execution_count": 12,
   "metadata": {},
   "outputs": [
    {
     "data": {
      "text/plain": [
       "array([nan, 'Maurice Tourneur', 'Frank Lloyd', ..., 'Norman Lee',\n",
       "       'Danny Denzongpa', 'Henry Levin, \\nGeorge Sherman'], dtype=object)"
      ]
     },
     "execution_count": 12,
     "metadata": {},
     "output_type": "execute_result"
    }
   ],
   "source": [
    "df['director'].unique()"
   ]
  },
  {
   "cell_type": "code",
   "execution_count": 13,
   "metadata": {},
   "outputs": [],
   "source": [
    "df['director'] = df['director'].str.split(', \\n')"
   ]
  },
  {
   "cell_type": "code",
   "execution_count": 14,
   "metadata": {},
   "outputs": [],
   "source": [
    "not_null_director = df['director'].notna()\n",
    "director_lists = df[not_null_director]['director'].values\n",
    "\n",
    "director_powers = dict()\n",
    "\n",
    "for director_list in director_lists:\n",
    "    for director in director_list:\n",
    "        director_powers[director] = 0"
   ]
  },
  {
   "cell_type": "code",
   "execution_count": 15,
   "metadata": {},
   "outputs": [],
   "source": [
    "dirs_with_revenue = df[['director', 'revenue']].values\n",
    "for directors, revenue in dirs_with_revenue:\n",
    "    if math.isnan(revenue):\n",
    "        continue\n",
    "    if type(directors) == list:\n",
    "        for director in directors:\n",
    "            director_powers[director] += revenue"
   ]
  },
  {
   "cell_type": "code",
   "execution_count": 16,
   "metadata": {},
   "outputs": [],
   "source": [
    "def create_director_power(item):\n",
    "    directors = item['director']\n",
    "    dir_power = 0\n",
    "    if type(directors) == list :\n",
    "        for director in directors:\n",
    "            dir_power += director_powers[director]\n",
    "    \n",
    "    return dir_power\n",
    "\n",
    "df['director_power'] = df[['director']].apply(create_director_power, axis=1)"
   ]
  },
  {
   "cell_type": "code",
   "execution_count": 17,
   "metadata": {},
   "outputs": [
    {
     "data": {
      "text/html": [
       "<div>\n",
       "<style scoped>\n",
       "    .dataframe tbody tr th:only-of-type {\n",
       "        vertical-align: middle;\n",
       "    }\n",
       "\n",
       "    .dataframe tbody tr th {\n",
       "        vertical-align: top;\n",
       "    }\n",
       "\n",
       "    .dataframe thead th {\n",
       "        text-align: right;\n",
       "    }\n",
       "</style>\n",
       "<table border=\"1\" class=\"dataframe\">\n",
       "  <thead>\n",
       "    <tr style=\"text-align: right;\">\n",
       "      <th></th>\n",
       "      <th>Unnamed: 0.1</th>\n",
       "      <th>Unnamed: 0</th>\n",
       "      <th>adult</th>\n",
       "      <th>budget</th>\n",
       "      <th>original_language</th>\n",
       "      <th>popularity</th>\n",
       "      <th>release_date</th>\n",
       "      <th>status</th>\n",
       "      <th>vote_average</th>\n",
       "      <th>vote_count</th>\n",
       "      <th>...</th>\n",
       "      <th>runtime</th>\n",
       "      <th>release_year</th>\n",
       "      <th>movie_title</th>\n",
       "      <th>budget_class</th>\n",
       "      <th>profit</th>\n",
       "      <th>profit_percent</th>\n",
       "      <th>movie_class</th>\n",
       "      <th>release_month</th>\n",
       "      <th>star_power</th>\n",
       "      <th>director_power</th>\n",
       "    </tr>\n",
       "  </thead>\n",
       "  <tbody>\n",
       "    <tr>\n",
       "      <th>979116</th>\n",
       "      <td>1306151</td>\n",
       "      <td>1306151</td>\n",
       "      <td>False</td>\n",
       "      <td>0.0</td>\n",
       "      <td>en</td>\n",
       "      <td>5.683753</td>\n",
       "      <td>1991-05-13</td>\n",
       "      <td>Released</td>\n",
       "      <td>5.7</td>\n",
       "      <td>26.0</td>\n",
       "      <td>...</td>\n",
       "      <td>104.0</td>\n",
       "      <td>1991.0</td>\n",
       "      <td>Robin Hood</td>\n",
       "      <td>low</td>\n",
       "      <td>0.0</td>\n",
       "      <td>0.0</td>\n",
       "      <td>below_avg</td>\n",
       "      <td>5.0</td>\n",
       "      <td>0.0</td>\n",
       "      <td>0.0</td>\n",
       "    </tr>\n",
       "    <tr>\n",
       "      <th>979117</th>\n",
       "      <td>1306153</td>\n",
       "      <td>1306153</td>\n",
       "      <td>False</td>\n",
       "      <td>0.0</td>\n",
       "      <td>tl</td>\n",
       "      <td>0.178241</td>\n",
       "      <td>2011-11-17</td>\n",
       "      <td>Released</td>\n",
       "      <td>9.0</td>\n",
       "      <td>3.0</td>\n",
       "      <td>...</td>\n",
       "      <td>360.0</td>\n",
       "      <td>2011.0</td>\n",
       "      <td>Century of Birthing</td>\n",
       "      <td>low</td>\n",
       "      <td>0.0</td>\n",
       "      <td>0.0</td>\n",
       "      <td>below_avg</td>\n",
       "      <td>11.0</td>\n",
       "      <td>0.0</td>\n",
       "      <td>0.0</td>\n",
       "    </tr>\n",
       "    <tr>\n",
       "      <th>979118</th>\n",
       "      <td>1306154</td>\n",
       "      <td>1306154</td>\n",
       "      <td>False</td>\n",
       "      <td>0.0</td>\n",
       "      <td>en</td>\n",
       "      <td>0.903007</td>\n",
       "      <td>2003-08-01</td>\n",
       "      <td>Released</td>\n",
       "      <td>3.8</td>\n",
       "      <td>6.0</td>\n",
       "      <td>...</td>\n",
       "      <td>90.0</td>\n",
       "      <td>2003.0</td>\n",
       "      <td>Betrayal</td>\n",
       "      <td>low</td>\n",
       "      <td>0.0</td>\n",
       "      <td>0.0</td>\n",
       "      <td>below_avg</td>\n",
       "      <td>8.0</td>\n",
       "      <td>0.0</td>\n",
       "      <td>0.0</td>\n",
       "    </tr>\n",
       "    <tr>\n",
       "      <th>979119</th>\n",
       "      <td>1306155</td>\n",
       "      <td>1306155</td>\n",
       "      <td>False</td>\n",
       "      <td>0.0</td>\n",
       "      <td>en</td>\n",
       "      <td>0.003503</td>\n",
       "      <td>1917-10-21</td>\n",
       "      <td>Released</td>\n",
       "      <td>0.0</td>\n",
       "      <td>0.0</td>\n",
       "      <td>...</td>\n",
       "      <td>87.0</td>\n",
       "      <td>1917.0</td>\n",
       "      <td>Satan Triumphant</td>\n",
       "      <td>low</td>\n",
       "      <td>0.0</td>\n",
       "      <td>0.0</td>\n",
       "      <td>below_avg</td>\n",
       "      <td>10.0</td>\n",
       "      <td>0.0</td>\n",
       "      <td>0.0</td>\n",
       "    </tr>\n",
       "    <tr>\n",
       "      <th>979120</th>\n",
       "      <td>1306156</td>\n",
       "      <td>1306156</td>\n",
       "      <td>False</td>\n",
       "      <td>0.0</td>\n",
       "      <td>en</td>\n",
       "      <td>0.163015</td>\n",
       "      <td>2017-06-09</td>\n",
       "      <td>Released</td>\n",
       "      <td>0.0</td>\n",
       "      <td>0.0</td>\n",
       "      <td>...</td>\n",
       "      <td>75.0</td>\n",
       "      <td>2017.0</td>\n",
       "      <td>Queerama</td>\n",
       "      <td>low</td>\n",
       "      <td>0.0</td>\n",
       "      <td>0.0</td>\n",
       "      <td>below_avg</td>\n",
       "      <td>6.0</td>\n",
       "      <td>0.0</td>\n",
       "      <td>0.0</td>\n",
       "    </tr>\n",
       "  </tbody>\n",
       "</table>\n",
       "<p>5 rows × 83 columns</p>\n",
       "</div>"
      ],
      "text/plain": [
       "        Unnamed: 0.1  Unnamed: 0  adult  budget original_language  popularity  \\\n",
       "979116       1306151     1306151  False     0.0                en    5.683753   \n",
       "979117       1306153     1306153  False     0.0                tl    0.178241   \n",
       "979118       1306154     1306154  False     0.0                en    0.903007   \n",
       "979119       1306155     1306155  False     0.0                en    0.003503   \n",
       "979120       1306156     1306156  False     0.0                en    0.163015   \n",
       "\n",
       "       release_date    status  vote_average  vote_count  ...  runtime  \\\n",
       "979116   1991-05-13  Released           5.7        26.0  ...    104.0   \n",
       "979117   2011-11-17  Released           9.0         3.0  ...    360.0   \n",
       "979118   2003-08-01  Released           3.8         6.0  ...     90.0   \n",
       "979119   1917-10-21  Released           0.0         0.0  ...     87.0   \n",
       "979120   2017-06-09  Released           0.0         0.0  ...     75.0   \n",
       "\n",
       "       release_year          movie_title budget_class profit profit_percent  \\\n",
       "979116       1991.0           Robin Hood          low    0.0            0.0   \n",
       "979117       2011.0  Century of Birthing          low    0.0            0.0   \n",
       "979118       2003.0             Betrayal          low    0.0            0.0   \n",
       "979119       1917.0     Satan Triumphant          low    0.0            0.0   \n",
       "979120       2017.0             Queerama          low    0.0            0.0   \n",
       "\n",
       "       movie_class  release_month  star_power director_power  \n",
       "979116   below_avg            5.0         0.0            0.0  \n",
       "979117   below_avg           11.0         0.0            0.0  \n",
       "979118   below_avg            8.0         0.0            0.0  \n",
       "979119   below_avg           10.0         0.0            0.0  \n",
       "979120   below_avg            6.0         0.0            0.0  \n",
       "\n",
       "[5 rows x 83 columns]"
      ]
     },
     "execution_count": 17,
     "metadata": {},
     "output_type": "execute_result"
    }
   ],
   "source": [
    "df.tail()"
   ]
  },
  {
   "cell_type": "code",
   "execution_count": 19,
   "metadata": {},
   "outputs": [
    {
     "data": {
      "image/png": "[encoded data removed]",
      "text/plain": [
       "<Figure size 640x480 with 1 Axes>"
      ]
     },
     "metadata": {},
     "output_type": "display_data"
    }
   ],
   "source": [
    "sns.kdeplot(df['star_power'], fill=True)\n",
    "plt.title(\"KDE of Year\")\n",
    "plt.show()"
   ]
  },
  {
   "cell_type": "code",
   "execution_count": 21,
   "metadata": {},
   "outputs": [
    {
     "data": {
      "image/png": "[encoded data removed]",
      "text/plain": [
       "<Figure size 640x480 with 1 Axes>"
      ]
     },
     "metadata": {},
     "output_type": "display_data"
    }
   ],
   "source": [
    "sns.kdeplot(df['director_power'], fill=True)\n",
    "plt.title(\"KDE of Year\")\n",
    "plt.show()"
   ]
  },
  {
   "cell_type": "code",
   "execution_count": 22,
   "metadata": {},
   "outputs": [
    {
     "name": "stderr",
     "output_type": "stream",
     "text": [
      "/Users/myothiha/opt/anaconda3/lib/python3.9/site-packages/seaborn/_decorators.py:36: FutureWarning: Pass the following variables as keyword args: x, y. From version 0.12, the only valid positional argument will be `data`, and passing other arguments without an explicit keyword will result in an error or misinterpretation.\n",
      "  warnings.warn(\n"
     ]
    },
    {
     "data": {
      "text/plain": [
       "<AxesSubplot:xlabel='star_power', ylabel='profit'>"
      ]
     },
     "execution_count": 22,
     "metadata": {},
     "output_type": "execute_result"
    },
    {
     "data": {
      "image/png": "[encoded data removed]",
      "text/plain": [
       "<Figure size 640x480 with 1 Axes>"
      ]
     },
     "metadata": {},
     "output_type": "display_data"
    }
   ],
   "source": [
    "sns.scatterplot(df['star_power'], df['profit'])"
   ]
  },
  {
   "cell_type": "code",
   "execution_count": 23,
   "metadata": {},
   "outputs": [
    {
     "name": "stderr",
     "output_type": "stream",
     "text": [
      "/Users/myothiha/opt/anaconda3/lib/python3.9/site-packages/seaborn/_decorators.py:36: FutureWarning: Pass the following variables as keyword args: x, y. From version 0.12, the only valid positional argument will be `data`, and passing other arguments without an explicit keyword will result in an error or misinterpretation.\n",
      "  warnings.warn(\n"
     ]
    },
    {
     "data": {
      "text/plain": [
       "<AxesSubplot:xlabel='director_power', ylabel='profit'>"
      ]
     },
     "execution_count": 23,
     "metadata": {},
     "output_type": "execute_result"
    },
    {
     "data": {
      "image/png": "[encoded data removed]",
      "text/plain": [
       "<Figure size 640x480 with 1 Axes>"
      ]
     },
     "metadata": {},
     "output_type": "display_data"
    }
   ],
   "source": [
    "sns.scatterplot(df['director_power'], df['profit'])"
   ]
  },
  {
   "cell_type": "code",
   "execution_count": 43,
   "metadata": {},
   "outputs": [
    {
     "data": {
      "text/html": [
       "<div>\n",
       "<style scoped>\n",
       "    .dataframe tbody tr th:only-of-type {\n",
       "        vertical-align: middle;\n",
       "    }\n",
       "\n",
       "    .dataframe tbody tr th {\n",
       "        vertical-align: top;\n",
       "    }\n",
       "\n",
       "    .dataframe thead th {\n",
       "        text-align: right;\n",
       "    }\n",
       "</style>\n",
       "<table border=\"1\" class=\"dataframe\">\n",
       "  <thead>\n",
       "    <tr style=\"text-align: right;\">\n",
       "      <th></th>\n",
       "      <th>star</th>\n",
       "      <th>revenue</th>\n",
       "    </tr>\n",
       "  </thead>\n",
       "  <tbody>\n",
       "    <tr>\n",
       "      <th>118</th>\n",
       "      <td>[Willard Parker, Merry Anders, Robert Dix, Joh...</td>\n",
       "      <td>0.0</td>\n",
       "    </tr>\n",
       "    <tr>\n",
       "      <th>119</th>\n",
       "      <td>[Willard Parker, Merry Anders, Robert Dix, Joh...</td>\n",
       "      <td>0.0</td>\n",
       "    </tr>\n",
       "    <tr>\n",
       "      <th>129</th>\n",
       "      <td>[Kent Taylor, Linda Hayes, Howard Da Silva, Ra...</td>\n",
       "      <td>0.0</td>\n",
       "    </tr>\n",
       "    <tr>\n",
       "      <th>130</th>\n",
       "      <td>[Kent Taylor, Linda Hayes, Howard Da Silva, Ra...</td>\n",
       "      <td>0.0</td>\n",
       "    </tr>\n",
       "    <tr>\n",
       "      <th>648</th>\n",
       "      <td>[George Montgomery, Terry Moore, Gay Perkins, ...</td>\n",
       "      <td>0.0</td>\n",
       "    </tr>\n",
       "    <tr>\n",
       "      <th>...</th>\n",
       "      <td>...</td>\n",
       "      <td>...</td>\n",
       "    </tr>\n",
       "    <tr>\n",
       "      <th>979056</th>\n",
       "      <td>[Cornel Wilde, Anita Louise, Jill Esmond, Edga...</td>\n",
       "      <td>0.0</td>\n",
       "    </tr>\n",
       "    <tr>\n",
       "      <th>979057</th>\n",
       "      <td>[Cornel Wilde, Anita Louise, Jill Esmond, Edga...</td>\n",
       "      <td>0.0</td>\n",
       "    </tr>\n",
       "    <tr>\n",
       "      <th>979099</th>\n",
       "      <td>[Errol Flynn, Maureen O'Hara, Anthony Quinn, A...</td>\n",
       "      <td>0.0</td>\n",
       "    </tr>\n",
       "    <tr>\n",
       "      <th>979100</th>\n",
       "      <td>[Errol Flynn, Maureen O'Hara, Anthony Quinn, A...</td>\n",
       "      <td>0.0</td>\n",
       "    </tr>\n",
       "    <tr>\n",
       "      <th>979103</th>\n",
       "      <td>[Robert Taylor, Eleanor Parker, James Whitmore...</td>\n",
       "      <td>0.0</td>\n",
       "    </tr>\n",
       "  </tbody>\n",
       "</table>\n",
       "<p>680217 rows × 2 columns</p>\n",
       "</div>"
      ],
      "text/plain": [
       "                                                     star  revenue\n",
       "118     [Willard Parker, Merry Anders, Robert Dix, Joh...      0.0\n",
       "119     [Willard Parker, Merry Anders, Robert Dix, Joh...      0.0\n",
       "129     [Kent Taylor, Linda Hayes, Howard Da Silva, Ra...      0.0\n",
       "130     [Kent Taylor, Linda Hayes, Howard Da Silva, Ra...      0.0\n",
       "648     [George Montgomery, Terry Moore, Gay Perkins, ...      0.0\n",
       "...                                                   ...      ...\n",
       "979056  [Cornel Wilde, Anita Louise, Jill Esmond, Edga...      0.0\n",
       "979057  [Cornel Wilde, Anita Louise, Jill Esmond, Edga...      0.0\n",
       "979099  [Errol Flynn, Maureen O'Hara, Anthony Quinn, A...      0.0\n",
       "979100  [Errol Flynn, Maureen O'Hara, Anthony Quinn, A...      0.0\n",
       "979103  [Robert Taylor, Eleanor Parker, James Whitmore...      0.0\n",
       "\n",
       "[680217 rows x 2 columns]"
      ]
     },
     "execution_count": 43,
     "metadata": {},
     "output_type": "execute_result"
    }
   ],
   "source": [
    "null_star_power = df['star_power'] == 0\n",
    "not_null_star = df['star'].notna()\n",
    "null_start_power_but_not_null = np.logical_and(null_star_power, not_null_star)\n",
    "df[null_start_power_but_not_null][['star', 'revenue']]"
   ]
  },
  {
   "cell_type": "code",
   "execution_count": 42,
   "metadata": {},
   "outputs": [
    {
     "data": {
      "text/plain": [
       "0.0"
      ]
     },
     "execution_count": 42,
     "metadata": {},
     "output_type": "execute_result"
    }
   ],
   "source": [
    "star_powers[\"Maureen O'Hara\"]"
   ]
  },
  {
   "cell_type": "code",
   "execution_count": 21,
   "metadata": {},
   "outputs": [],
   "source": [
    "import pickle\n",
    "\n",
    "powers = {\n",
    "    'star_powers': star_powers,\n",
    "    'director_powers': director_powers\n",
    "}\n",
    "\n",
    "file = open('powers.dict', 'wb')\n",
    "pickle.dump(powers, file)\n",
    "file.close()"
   ]
  },
  {
   "cell_type": "code",
   "execution_count": 18,
   "metadata": {},
   "outputs": [],
   "source": [
    "df.to_csv('Data/movie_data_w_star_power.csv')"
   ]
  }
 ],
 "metadata": {
  "kernelspec": {
   "display_name": "base",
   "language": "python",
   "name": "python3"
  },
  "language_info": {
   "codemirror_mode": {
    "name": "ipython",
    "version": 3
   },
   "file_extension": ".py",
   "mimetype": "text/x-python",
   "name": "python",
   "nbconvert_exporter": "python",
   "pygments_lexer": "ipython3",
   "version": "3.9.13"
  }
 },
 "nbformat": 4,
 "nbformat_minor": 2
}
